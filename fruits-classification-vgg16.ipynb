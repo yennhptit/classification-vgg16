{
 "cells": [
  {
   "cell_type": "markdown",
   "metadata": {},
   "source": [
    "##1. Import library\n"
   ]
  },
  {
   "cell_type": "code",
   "execution_count": null,
   "metadata": {
    "execution": {
     "iopub.execute_input": "2025-05-07T16:37:01.062661Z",
     "iopub.status.busy": "2025-05-07T16:37:01.062431Z",
     "iopub.status.idle": "2025-05-07T16:37:05.677720Z",
     "shell.execute_reply": "2025-05-07T16:37:05.677125Z",
     "shell.execute_reply.started": "2025-05-07T16:37:01.062643Z"
    },
    "trusted": true
   },
   "outputs": [
    {
     "data": {
      "text/plain": [
       "True"
      ]
     },
     "execution_count": 1,
     "metadata": {},
     "output_type": "execute_result"
    }
   ],
   "source": [
    "import torch\n",
    "import torch.nn as nn\n",
    "import numpy as np\n",
    "from torch.optim import Adam\n",
    "from torch.utils.data import Dataset, DataLoader\n",
    "\n",
    "device = torch.device(\"cuda\" if torch.cuda.is_available() else \"cpu\")\n",
    "torch.cuda.is_available()"
   ]
  },
  {
   "cell_type": "markdown",
   "metadata": {},
   "source": [
    "##2. Data preprocessing\n"
   ]
  },
  {
   "cell_type": "code",
   "execution_count": null,
   "metadata": {
    "execution": {
     "iopub.execute_input": "2025-05-07T16:37:05.679391Z",
     "iopub.status.busy": "2025-05-07T16:37:05.679036Z",
     "iopub.status.idle": "2025-05-07T16:37:08.901627Z",
     "shell.execute_reply": "2025-05-07T16:37:08.901088Z",
     "shell.execute_reply.started": "2025-05-07T16:37:05.679365Z"
    },
    "trusted": true
   },
   "outputs": [],
   "source": [
    "import os\n",
    "import glob\n",
    "from PIL import Image\n",
    "import torchvision.transforms.v2 as transforms\n",
    "import torchvision.io as tv_io"
   ]
  },
  {
   "cell_type": "code",
   "execution_count": null,
   "metadata": {
    "execution": {
     "iopub.execute_input": "2025-05-07T16:37:08.902953Z",
     "iopub.status.busy": "2025-05-07T16:37:08.902559Z",
     "iopub.status.idle": "2025-05-07T16:37:08.906336Z",
     "shell.execute_reply": "2025-05-07T16:37:08.905653Z",
     "shell.execute_reply.started": "2025-05-07T16:37:08.902926Z"
    },
    "trusted": true
   },
   "outputs": [],
   "source": [
    "train_path = \"/kaggle/input/fruits-fresh-and-rotten-for-classification/dataset/train\"\n",
    "valid_path = \"/kaggle/input/fruits-fresh-and-rotten-for-classification/dataset/test\""
   ]
  },
  {
   "cell_type": "code",
   "execution_count": null,
   "metadata": {
    "execution": {
     "iopub.execute_input": "2025-05-07T16:37:08.907343Z",
     "iopub.status.busy": "2025-05-07T16:37:08.907086Z",
     "iopub.status.idle": "2025-05-07T16:37:08.928471Z",
     "shell.execute_reply": "2025-05-07T16:37:08.927697Z",
     "shell.execute_reply.started": "2025-05-07T16:37:08.907320Z"
    },
    "trusted": true
   },
   "outputs": [
    {
     "name": "stderr",
     "output_type": "stream",
     "text": [
      "/usr/local/lib/python3.11/dist-packages/torchvision/transforms/v2/_deprecated.py:42: UserWarning: The transform `ToTensor()` is deprecated and will be removed in a future release. Instead, please use `v2.Compose([v2.ToImage(), v2.ToDtype(torch.float32, scale=True)])`.Output is equivalent up to float precision.\n",
      "  warnings.warn(\n"
     ]
    }
   ],
   "source": [
    "pre_trans = transforms.Compose(\n",
    "    [\n",
    "        transforms.Resize((224, 224)),\n",
    "        transforms.ToTensor(),\n",
    "        transforms.Normalize(mean=[0.485, 0.456, 0.406], std=[0.229, 0.224, 0.225]),\n",
    "    ]\n",
    ")"
   ]
  },
  {
   "cell_type": "code",
   "execution_count": null,
   "metadata": {
    "execution": {
     "iopub.execute_input": "2025-05-07T16:37:08.930562Z",
     "iopub.status.busy": "2025-05-07T16:37:08.930368Z",
     "iopub.status.idle": "2025-05-07T16:37:08.945065Z",
     "shell.execute_reply": "2025-05-07T16:37:08.944380Z",
     "shell.execute_reply.started": "2025-05-07T16:37:08.930546Z"
    },
    "trusted": true
   },
   "outputs": [],
   "source": [
    "data_labels = [\n",
    "    \"freshapples\",\n",
    "    \"freshbanana\",\n",
    "    \"freshoranges\",\n",
    "    \"rottenapples\",\n",
    "    \"rottenbanana\",\n",
    "    \"rottenoranges\",\n",
    "]"
   ]
  },
  {
   "cell_type": "code",
   "execution_count": null,
   "metadata": {
    "execution": {
     "iopub.execute_input": "2025-05-07T16:37:08.946106Z",
     "iopub.status.busy": "2025-05-07T16:37:08.945899Z",
     "iopub.status.idle": "2025-05-07T16:37:08.961531Z",
     "shell.execute_reply": "2025-05-07T16:37:08.960899Z",
     "shell.execute_reply.started": "2025-05-07T16:37:08.946090Z"
    },
    "trusted": true
   },
   "outputs": [],
   "source": [
    "class MyDataset(Dataset):\n",
    "    def __init__(self, data_dir):\n",
    "        self.imgs = []\n",
    "        self.labels = []\n",
    "\n",
    "        for idx, label in enumerate(data_labels):\n",
    "            folder_path = os.path.join(data_dir, label)\n",
    "            data_paths = glob.glob(os.path.join(folder_path, \"*.png\"), recursive=True)\n",
    "            for path in data_paths:\n",
    "                img = tv_io.read_image(path, tv_io.ImageReadMode.RGB)\n",
    "                img = img.float() / 255.0\n",
    "                self.imgs.append(pre_trans(img).to(device))\n",
    "                self.labels.append(torch.tensor(idx).to(device).float())\n",
    "\n",
    "    def __len__(self):\n",
    "        return len(self.imgs)\n",
    "\n",
    "    def __getitem__(self, idx):\n",
    "        img = self.imgs[idx]\n",
    "        label = self.labels[idx]\n",
    "        return img, label"
   ]
  },
  {
   "cell_type": "code",
   "execution_count": null,
   "metadata": {
    "execution": {
     "iopub.execute_input": "2025-05-07T16:37:08.962369Z",
     "iopub.status.busy": "2025-05-07T16:37:08.962167Z",
     "iopub.status.idle": "2025-05-07T16:39:46.302463Z",
     "shell.execute_reply": "2025-05-07T16:39:46.301822Z",
     "shell.execute_reply.started": "2025-05-07T16:37:08.962354Z"
    },
    "trusted": true
   },
   "outputs": [],
   "source": [
    "train_data = MyDataset(train_path)\n",
    "valid_data = MyDataset(valid_path)\n",
    "\n",
    "train_loader = DataLoader(train_data, batch_size=32, shuffle=True)\n",
    "valid_loader = DataLoader(valid_data, batch_size=32, shuffle=False)"
   ]
  },
  {
   "cell_type": "code",
   "execution_count": 8,
   "metadata": {
    "execution": {
     "iopub.execute_input": "2025-05-07T16:39:46.304034Z",
     "iopub.status.busy": "2025-05-07T16:39:46.303335Z",
     "iopub.status.idle": "2025-05-07T16:39:46.308112Z",
     "shell.execute_reply": "2025-05-07T16:39:46.307455Z",
     "shell.execute_reply.started": "2025-05-07T16:39:46.304000Z"
    },
    "trusted": true
   },
   "outputs": [
    {
     "name": "stdout",
     "output_type": "stream",
     "text": [
      "341\n",
      "85\n"
     ]
    }
   ],
   "source": [
    "print(len(train_loader))\n",
    "print(len(valid_loader))"
   ]
  },
  {
   "cell_type": "code",
   "execution_count": 9,
   "metadata": {
    "execution": {
     "iopub.execute_input": "2025-05-07T16:39:46.308876Z",
     "iopub.status.busy": "2025-05-07T16:39:46.308667Z",
     "iopub.status.idle": "2025-05-07T16:39:46.326803Z",
     "shell.execute_reply": "2025-05-07T16:39:46.326254Z",
     "shell.execute_reply.started": "2025-05-07T16:39:46.308843Z"
    },
    "trusted": true
   },
   "outputs": [
    {
     "name": "stdout",
     "output_type": "stream",
     "text": [
      "6\n"
     ]
    }
   ],
   "source": [
    "n_classes = len(data_labels)\n",
    "print(n_classes)"
   ]
  },
  {
   "cell_type": "markdown",
   "metadata": {},
   "source": [
    "##3. Build model\n"
   ]
  },
  {
   "cell_type": "code",
   "execution_count": null,
   "metadata": {
    "execution": {
     "iopub.execute_input": "2025-05-07T16:39:46.327703Z",
     "iopub.status.busy": "2025-05-07T16:39:46.327522Z",
     "iopub.status.idle": "2025-05-07T16:39:51.669608Z",
     "shell.execute_reply": "2025-05-07T16:39:51.669013Z",
     "shell.execute_reply.started": "2025-05-07T16:39:46.327688Z"
    },
    "trusted": true
   },
   "outputs": [
    {
     "name": "stderr",
     "output_type": "stream",
     "text": [
      "/usr/local/lib/python3.11/dist-packages/torchvision/models/_utils.py:208: UserWarning: The parameter 'pretrained' is deprecated since 0.13 and may be removed in the future, please use 'weights' instead.\n",
      "  warnings.warn(\n",
      "/usr/local/lib/python3.11/dist-packages/torchvision/models/_utils.py:223: UserWarning: Arguments other than a weight enum or `None` for 'weights' are deprecated since 0.13 and may be removed in the future. The current behavior is equivalent to passing `weights=VGG16_Weights.IMAGENET1K_V1`. You can also use `weights=VGG16_Weights.DEFAULT` to get the most up-to-date weights.\n",
      "  warnings.warn(msg)\n",
      "Downloading: \"https://download.pytorch.org/models/vgg16-397923af.pth\" to /root/.cache/torch/hub/checkpoints/vgg16-397923af.pth\n",
      "100%|██████████| 528M/528M [00:02<00:00, 229MB/s]  \n"
     ]
    }
   ],
   "source": [
    "import torchvision.models as models\n",
    "\n",
    "vgg16 = models.vgg16(pretrained=True)\n",
    "\n",
    "for param in vgg16.parameters():\n",
    "    param.requires_grad = False\n",
    "\n",
    "vgg16.classifier = nn.Sequential(\n",
    "    nn.Linear(512 * 7 * 7, 4096),\n",
    "    nn.ReLU(True),\n",
    "    nn.Dropout(0.5),\n",
    "    nn.Linear(4096, 4096),\n",
    "    nn.ReLU(True),\n",
    "    nn.Dropout(0.5),\n",
    "    nn.Linear(4096, n_classes),\n",
    ")\n",
    "\n",
    "model = vgg16.to(device)"
   ]
  },
  {
   "cell_type": "code",
   "execution_count": 11,
   "metadata": {
    "execution": {
     "iopub.execute_input": "2025-05-07T16:39:51.670576Z",
     "iopub.status.busy": "2025-05-07T16:39:51.670315Z",
     "iopub.status.idle": "2025-05-07T16:39:51.677043Z",
     "shell.execute_reply": "2025-05-07T16:39:51.676422Z",
     "shell.execute_reply.started": "2025-05-07T16:39:51.670552Z"
    },
    "trusted": true
   },
   "outputs": [
    {
     "data": {
      "text/plain": [
       "VGG(\n",
       "  (features): Sequential(\n",
       "    (0): Conv2d(3, 64, kernel_size=(3, 3), stride=(1, 1), padding=(1, 1))\n",
       "    (1): ReLU(inplace=True)\n",
       "    (2): Conv2d(64, 64, kernel_size=(3, 3), stride=(1, 1), padding=(1, 1))\n",
       "    (3): ReLU(inplace=True)\n",
       "    (4): MaxPool2d(kernel_size=2, stride=2, padding=0, dilation=1, ceil_mode=False)\n",
       "    (5): Conv2d(64, 128, kernel_size=(3, 3), stride=(1, 1), padding=(1, 1))\n",
       "    (6): ReLU(inplace=True)\n",
       "    (7): Conv2d(128, 128, kernel_size=(3, 3), stride=(1, 1), padding=(1, 1))\n",
       "    (8): ReLU(inplace=True)\n",
       "    (9): MaxPool2d(kernel_size=2, stride=2, padding=0, dilation=1, ceil_mode=False)\n",
       "    (10): Conv2d(128, 256, kernel_size=(3, 3), stride=(1, 1), padding=(1, 1))\n",
       "    (11): ReLU(inplace=True)\n",
       "    (12): Conv2d(256, 256, kernel_size=(3, 3), stride=(1, 1), padding=(1, 1))\n",
       "    (13): ReLU(inplace=True)\n",
       "    (14): Conv2d(256, 256, kernel_size=(3, 3), stride=(1, 1), padding=(1, 1))\n",
       "    (15): ReLU(inplace=True)\n",
       "    (16): MaxPool2d(kernel_size=2, stride=2, padding=0, dilation=1, ceil_mode=False)\n",
       "    (17): Conv2d(256, 512, kernel_size=(3, 3), stride=(1, 1), padding=(1, 1))\n",
       "    (18): ReLU(inplace=True)\n",
       "    (19): Conv2d(512, 512, kernel_size=(3, 3), stride=(1, 1), padding=(1, 1))\n",
       "    (20): ReLU(inplace=True)\n",
       "    (21): Conv2d(512, 512, kernel_size=(3, 3), stride=(1, 1), padding=(1, 1))\n",
       "    (22): ReLU(inplace=True)\n",
       "    (23): MaxPool2d(kernel_size=2, stride=2, padding=0, dilation=1, ceil_mode=False)\n",
       "    (24): Conv2d(512, 512, kernel_size=(3, 3), stride=(1, 1), padding=(1, 1))\n",
       "    (25): ReLU(inplace=True)\n",
       "    (26): Conv2d(512, 512, kernel_size=(3, 3), stride=(1, 1), padding=(1, 1))\n",
       "    (27): ReLU(inplace=True)\n",
       "    (28): Conv2d(512, 512, kernel_size=(3, 3), stride=(1, 1), padding=(1, 1))\n",
       "    (29): ReLU(inplace=True)\n",
       "    (30): MaxPool2d(kernel_size=2, stride=2, padding=0, dilation=1, ceil_mode=False)\n",
       "  )\n",
       "  (avgpool): AdaptiveAvgPool2d(output_size=(7, 7))\n",
       "  (classifier): Sequential(\n",
       "    (0): Linear(in_features=25088, out_features=4096, bias=True)\n",
       "    (1): ReLU(inplace=True)\n",
       "    (2): Dropout(p=0.5, inplace=False)\n",
       "    (3): Linear(in_features=4096, out_features=4096, bias=True)\n",
       "    (4): ReLU(inplace=True)\n",
       "    (5): Dropout(p=0.5, inplace=False)\n",
       "    (6): Linear(in_features=4096, out_features=6, bias=True)\n",
       "  )\n",
       ")"
      ]
     },
     "execution_count": 11,
     "metadata": {},
     "output_type": "execute_result"
    }
   ],
   "source": [
    "model = model.to(device)\n",
    "model"
   ]
  },
  {
   "cell_type": "code",
   "execution_count": null,
   "metadata": {
    "execution": {
     "iopub.execute_input": "2025-05-07T16:39:51.677785Z",
     "iopub.status.busy": "2025-05-07T16:39:51.677627Z",
     "iopub.status.idle": "2025-05-07T16:39:51.692956Z",
     "shell.execute_reply": "2025-05-07T16:39:51.692420Z",
     "shell.execute_reply.started": "2025-05-07T16:39:51.677770Z"
    },
    "trusted": true
   },
   "outputs": [],
   "source": [
    "loss_function = nn.CrossEntropyLoss()\n",
    "optimizer = Adam(model.parameters(), lr=1e-3, weight_decay=1e-5)"
   ]
  },
  {
   "cell_type": "code",
   "execution_count": 13,
   "metadata": {
    "execution": {
     "iopub.execute_input": "2025-05-07T16:39:51.693847Z",
     "iopub.status.busy": "2025-05-07T16:39:51.693617Z",
     "iopub.status.idle": "2025-05-07T16:39:51.709350Z",
     "shell.execute_reply": "2025-05-07T16:39:51.708754Z",
     "shell.execute_reply.started": "2025-05-07T16:39:51.693811Z"
    },
    "trusted": true
   },
   "outputs": [],
   "source": [
    "train_N, valid_N = len(train_loader.dataset), len(valid_loader.dataset)"
   ]
  },
  {
   "cell_type": "code",
   "execution_count": null,
   "metadata": {
    "execution": {
     "iopub.execute_input": "2025-05-07T16:39:51.712068Z",
     "iopub.status.busy": "2025-05-07T16:39:51.711758Z",
     "iopub.status.idle": "2025-05-07T16:39:51.724777Z",
     "shell.execute_reply": "2025-05-07T16:39:51.724290Z",
     "shell.execute_reply.started": "2025-05-07T16:39:51.712042Z"
    },
    "trusted": true
   },
   "outputs": [],
   "source": [
    "def get_batch_accuracy(output, y, N):\n",
    "    pred = output.argmax(dim=1, keepdim=True)\n",
    "    accuracy = pred.eq(y.view_as(pred)).sum().item()\n",
    "    return accuracy / N"
   ]
  },
  {
   "cell_type": "markdown",
   "metadata": {},
   "source": [
    "##4.Train and valid model\n"
   ]
  },
  {
   "cell_type": "code",
   "execution_count": null,
   "metadata": {
    "execution": {
     "iopub.execute_input": "2025-05-07T16:39:51.725633Z",
     "iopub.status.busy": "2025-05-07T16:39:51.725452Z",
     "iopub.status.idle": "2025-05-07T16:39:51.741119Z",
     "shell.execute_reply": "2025-05-07T16:39:51.740500Z",
     "shell.execute_reply.started": "2025-05-07T16:39:51.725618Z"
    },
    "trusted": true
   },
   "outputs": [],
   "source": [
    "def train():\n",
    "    loss = 0\n",
    "    accuracy = 0\n",
    "    model.train()\n",
    "    for x, y in train_loader:\n",
    "        x = x.to(device)\n",
    "        y = y.to(device)\n",
    "        output = model(x)\n",
    "        optimizer.zero_grad()\n",
    "        batch_loss = loss_function(output, y.long())\n",
    "        batch_loss.backward()\n",
    "        optimizer.step()\n",
    "        loss += batch_loss.item()\n",
    "        accuracy += get_batch_accuracy(output, y, train_N)\n",
    "    print(f\"Loss: {loss:.4f} Accuracy: {accuracy*100:.2f}%\")"
   ]
  },
  {
   "cell_type": "code",
   "execution_count": null,
   "metadata": {
    "execution": {
     "iopub.execute_input": "2025-05-07T16:39:51.742038Z",
     "iopub.status.busy": "2025-05-07T16:39:51.741748Z",
     "iopub.status.idle": "2025-05-07T16:39:51.766067Z",
     "shell.execute_reply": "2025-05-07T16:39:51.765316Z",
     "shell.execute_reply.started": "2025-05-07T16:39:51.742013Z"
    },
    "trusted": true
   },
   "outputs": [],
   "source": [
    "def valid():\n",
    "    loss = 0\n",
    "    accuracy = 0\n",
    "    model.eval()\n",
    "    with torch.no_grad():\n",
    "        for x, y in valid_loader:\n",
    "            x = x.to(device)\n",
    "            y = y.to(device)\n",
    "            output = model(x)\n",
    "            batch_loss = loss_function(output, y.long())\n",
    "            loss += batch_loss.item()\n",
    "            accuracy += get_batch_accuracy(output, y, valid_N)\n",
    "    print(f\"Loss: {loss:.4f} Accuracy: {accuracy*100:.2f}%\")"
   ]
  },
  {
   "cell_type": "code",
   "execution_count": null,
   "metadata": {
    "execution": {
     "iopub.execute_input": "2025-05-07T16:39:51.767196Z",
     "iopub.status.busy": "2025-05-07T16:39:51.766905Z",
     "iopub.status.idle": "2025-05-07T16:48:02.077475Z",
     "shell.execute_reply": "2025-05-07T16:48:02.076760Z",
     "shell.execute_reply.started": "2025-05-07T16:39:51.767170Z"
    },
    "trusted": true
   },
   "outputs": [
    {
     "name": "stdout",
     "output_type": "stream",
     "text": [
      "Epoch: 1/5\n",
      "Loss: 188.0004 Accuracy: 91.55%\n",
      "Loss: 11.5503 Accuracy: 97.00%\n",
      "Epoch: 2/5\n",
      "Loss: 140.4032 Accuracy: 95.78%\n",
      "Loss: 9.1454 Accuracy: 98.11%\n",
      "Epoch: 3/5\n",
      "Loss: 218.0456 Accuracy: 96.35%\n",
      "Loss: 50.5468 Accuracy: 97.00%\n",
      "Epoch: 4/5\n",
      "Loss: 255.0615 Accuracy: 97.19%\n",
      "Loss: 11.8689 Accuracy: 98.67%\n",
      "Epoch: 5/5\n",
      "Loss: 111.2453 Accuracy: 98.40%\n",
      "Loss: 8.0882 Accuracy: 99.18%\n"
     ]
    }
   ],
   "source": [
    "num_epochs = 5\n",
    "for epoch in range(num_epochs):\n",
    "    print(f\"Epoch: {epoch+1}/{num_epochs}\")\n",
    "    train()\n",
    "    valid()"
   ]
  },
  {
   "cell_type": "code",
   "execution_count": null,
   "metadata": {
    "execution": {
     "iopub.execute_input": "2025-05-07T16:48:02.078600Z",
     "iopub.status.busy": "2025-05-07T16:48:02.078387Z",
     "iopub.status.idle": "2025-05-07T16:48:02.084762Z",
     "shell.execute_reply": "2025-05-07T16:48:02.084075Z",
     "shell.execute_reply.started": "2025-05-07T16:48:02.078583Z"
    },
    "trusted": true
   },
   "outputs": [],
   "source": [
    "from torchvision.io import read_image, ImageReadMode\n",
    "import torch.nn.functional as F\n",
    "import matplotlib.pyplot as plt\n",
    "\n",
    "\n",
    "def predict_sample(image_path):\n",
    "    img = read_image(image_path, ImageReadMode.RGB).float() / 255.0\n",
    "    img = pre_trans(img)\n",
    "    img = img.unsqueeze(0).to(device)\n",
    "\n",
    "    with torch.no_grad():\n",
    "        output = model(img)\n",
    "        prob = F.softmax(output, dim=1)\n",
    "        pred_idx = torch.argmax(prob, dim=1).item()\n",
    "        pred_label = data_labels[pred_idx]\n",
    "\n",
    "    plt.imshow(img.squeeze(0).permute(1, 2, 0).cpu())\n",
    "    plt.title(f\"Prediction: {pred_label}\")\n",
    "    plt.axis(\"off\")\n",
    "    plt.show()"
   ]
  },
  {
   "cell_type": "code",
   "execution_count": null,
   "metadata": {
    "execution": {
     "iopub.execute_input": "2025-05-07T16:50:27.558372Z",
     "iopub.status.busy": "2025-05-07T16:50:27.558074Z",
     "iopub.status.idle": "2025-05-07T16:50:27.906017Z",
     "shell.execute_reply": "2025-05-07T16:50:27.905367Z",
     "shell.execute_reply.started": "2025-05-07T16:50:27.558352Z"
    },
    "trusted": true
   },
   "outputs": [
    {
     "data": {
      "image/png": "[encoded data removed]",
      "text/plain": [
       "<Figure size 640x480 with 1 Axes>"
      ]
     },
     "metadata": {},
     "output_type": "display_data"
    }
   ],
   "source": [
    "predict_sample(\n",
    "    \"/kaggle/input/fruits-fresh-and-rotten-for-classification/dataset/test/freshbanana/Screen Shot 2018-06-12 at 10.00.37 PM.png\"\n",
    ")"
   ]
  },
  {
   "cell_type": "code",
   "execution_count": null,
   "metadata": {
    "execution": {
     "iopub.execute_input": "2025-05-07T16:50:32.711706Z",
     "iopub.status.busy": "2025-05-07T16:50:32.711435Z",
     "iopub.status.idle": "2025-05-07T16:50:32.716508Z",
     "shell.execute_reply": "2025-05-07T16:50:32.715653Z",
     "shell.execute_reply.started": "2025-05-07T16:50:32.711685Z"
    },
    "trusted": true
   },
   "outputs": [],
   "source": [
    "def result():\n",
    "    loss = 0\n",
    "    accuracy = 0\n",
    "    model.eval()\n",
    "    with torch.no_grad():\n",
    "        for x, y in valid_loader:\n",
    "            x = x.to(device)\n",
    "            y = y.to(device)\n",
    "            output = model(x)\n",
    "            batch_loss = loss_function(output, y.long())\n",
    "            loss += batch_loss.item()\n",
    "            accuracy += get_batch_accuracy(output, y, valid_N)\n",
    "    print(f\"Accuracy: {accuracy*100:.2f}%\")"
   ]
  },
  {
   "cell_type": "code",
   "execution_count": 22,
   "metadata": {
    "execution": {
     "iopub.execute_input": "2025-05-07T16:50:36.829403Z",
     "iopub.status.busy": "2025-05-07T16:50:36.828692Z",
     "iopub.status.idle": "2025-05-07T16:50:53.587861Z",
     "shell.execute_reply": "2025-05-07T16:50:53.587234Z",
     "shell.execute_reply.started": "2025-05-07T16:50:36.829377Z"
    },
    "trusted": true
   },
   "outputs": [
    {
     "name": "stdout",
     "output_type": "stream",
     "text": [
      "Accuracy: 99.18%\n"
     ]
    }
   ],
   "source": [
    "result()"
   ]
  },
  {
   "cell_type": "code",
   "execution_count": null,
   "metadata": {
    "execution": {
     "iopub.execute_input": "2025-05-07T16:53:18.740889Z",
     "iopub.status.busy": "2025-05-07T16:53:18.740298Z",
     "iopub.status.idle": "2025-05-07T16:53:19.805385Z",
     "shell.execute_reply": "2025-05-07T16:53:19.804576Z",
     "shell.execute_reply.started": "2025-05-07T16:53:18.740865Z"
    },
    "trusted": true
   },
   "outputs": [],
   "source": [
    "torch.save(model, \"vgg16_fruit_classifier.pth\")  # Lưu toàn bộ model"
   ]
  }
 ],
 "metadata": {
  "kaggle": {
   "accelerator": "nvidiaTeslaT4",
   "dataSources": [
    {
     "datasetId": 46490,
     "sourceId": 84555,
     "sourceType": "datasetVersion"
    }
   ],
   "dockerImageVersionId": 31012,
   "isGpuEnabled": true,
   "isInternetEnabled": true,
   "language": "python",
   "sourceType": "notebook"
  },
  "kernelspec": {
   "display_name": "Python 3",
   "language": "python",
   "name": "python3"
  },
  "language_info": {
   "codemirror_mode": {
    "name": "ipython",
    "version": 3
   },
   "file_extension": ".py",
   "mimetype": "text/x-python",
   "name": "python",
   "nbconvert_exporter": "python",
   "pygments_lexer": "ipython3",
   "version": "3.11.11"
  }
 },
 "nbformat": 4,
 "nbformat_minor": 4
}
